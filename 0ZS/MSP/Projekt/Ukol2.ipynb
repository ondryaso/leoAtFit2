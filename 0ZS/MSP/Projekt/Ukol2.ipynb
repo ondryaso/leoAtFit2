{
 "cells": [
  {
   "cell_type": "code",
   "execution_count": 393,
   "metadata": {},
   "outputs": [],
   "source": [
    "from typing import List, Tuple\n",
    "\n",
    "import pandas as pd\n",
    "import numpy as np\n",
    "import statsmodels.formula.api as smf\n",
    "import statsmodels.regression as smreg\n",
    "import matplotlib.pyplot as plt"
   ]
  },
  {
   "cell_type": "code",
   "execution_count": 394,
   "metadata": {},
   "outputs": [],
   "source": [
    "df = pd.read_csv(\"pt2_data.csv\", sep=';', header=0, decimal=',')"
   ]
  },
  {
   "cell_type": "code",
   "execution_count": 395,
   "metadata": {},
   "outputs": [
    {
     "name": "stdout",
     "output_type": "stream",
     "text": [
      "<class 'pandas.core.frame.DataFrame'>\n",
      "RangeIndex: 70 entries, 0 to 69\n",
      "Data columns (total 3 columns):\n",
      " #   Column  Non-Null Count  Dtype  \n",
      "---  ------  --------------  -----  \n",
      " 0   xi      70 non-null     float64\n",
      " 1   yi      70 non-null     float64\n",
      " 2   zi      70 non-null     float64\n",
      "dtypes: float64(3)\n",
      "memory usage: 1.8 KB\n"
     ]
    }
   ],
   "source": [
    "df.info()"
   ]
  },
  {
   "cell_type": "markdown",
   "source": [
    "### Část a)"
   ],
   "metadata": {
    "collapsed": false
   }
  },
  {
   "cell_type": "code",
   "execution_count": 396,
   "metadata": {},
   "outputs": [],
   "source": [
    "def try_model(features):\n",
    "    \"\"\"Sestaví model podle vstupní n-tice určující přítomnost jednotlivých\n",
    "     parametrů (X, Y, X², Y², XY) a 'natrénuje' jej daty z df.\"\"\"\n",
    "    formula = \"zi ~ 1 + \" + (\"xi + \" if features[0] else \"\") + (\"yi + \" if features[1] else \"\") + (\n",
    "        \"np.square(xi) + \" if features[2] else \"\") \\\n",
    "              + (\"np.square(yi) + \" if features[3] else \"\") + (\"(xi : yi) + \" if features[4] else \"\")\n",
    "    formula = formula[:-3]\n",
    "\n",
    "    mod = smf.ols(formula=formula, data=df)\n",
    "    return mod.fit(), formula\n",
    "\n",
    "\n",
    "def zeroish_params(result, alpha=0.05):\n",
    "    \"\"\"Pomocí t-testu otestuje, zda se parametry modelu na dané hladině významnosti rovnají nule.\"\"\"\n",
    "    names = {'Intercept': '1', 'xi': '2', 'yi': '3',\n",
    "             'np.square(xi)': '4', 'np.square(yi)': '5', 'xi:yi': '6'}\n",
    "    pvals = result.pvalues\n",
    "    par_idx = 0\n",
    "    has = False\n",
    "    for pval in pvals:\n",
    "        # Pokud je p-hodnota větší než zadaná hladina významnosti, hypotézu o nulovosti nezamítáme\n",
    "        if pval > alpha:\n",
    "            par_name = result.params.axes[0].values[par_idx]\n",
    "            print(f\">>> β̂_{names[par_name]} (for {par_name}) may be zero-ish (p-val = {round(pval, 4)})\")\n",
    "            has = True\n",
    "        par_idx += 1\n",
    "    if not has:\n",
    "        print(\">>> no zero-ish parameters\")"
   ]
  },
  {
   "cell_type": "code",
   "execution_count": 397,
   "metadata": {},
   "outputs": [],
   "source": [
    "configs = {}\n",
    "\n",
    "# Vytvoříme všech 32 možných modelů\n",
    "for i in range(2 ** 5):\n",
    "    config = (i & 2 ** 4 != 0, i & 2 ** 3 != 0, i & 2 ** 2 != 0, i & 2 != 0, i & 1 == 1)\n",
    "    model_result, form = try_model(config)\n",
    "    configs[form] = model_result"
   ]
  },
  {
   "cell_type": "code",
   "execution_count": 398,
   "metadata": {},
   "outputs": [],
   "source": [
    "def show_sorted_by(selector, selector_name, top_n):\n",
    "    \"\"\"Vypíše informace o top_n modelech seřazených podle dané zadané funkce.\"\"\"\n",
    "    configs_sorted: List[Tuple[str, smreg.linear_model.RegressionResults]] \\\n",
    "        = sorted(configs.items(), key=lambda x: selector(x[1]), reverse=True)\n",
    "\n",
    "    print(f\"Top {top_n} (by {selector_name}):\")\n",
    "    conf_idx = 0\n",
    "    for config_tuple in configs_sorted[0:top_n]:\n",
    "        res = config_tuple[1]\n",
    "        print(f\"> {conf_idx}: {config_tuple[0]}\")\n",
    "        print(f\">> R² = {round(res.rsquared, 5)} | R_adj² = {round(res.rsquared_adj, 5)} | F-pval = {res.f_pvalue}\")\n",
    "        zeroish_params(res)\n",
    "        print()\n",
    "        conf_idx += 1"
   ]
  },
  {
   "cell_type": "code",
   "execution_count": 399,
   "metadata": {},
   "outputs": [
    {
     "name": "stdout",
     "output_type": "stream",
     "text": [
      "Top 30 (by R²):\n",
      "> 0: zi ~ 1 + xi + yi + np.square(xi) + np.square(yi) + (xi : yi)\n",
      ">> R² = 0.6079 | R_adj² = 0.57727 | F-pval = 6.857122749198144e-12\n",
      ">>> β̂_1 (for Intercept) may be zero-ish (p-val = 0.0566)\n",
      ">>> β̂_3 (for yi) may be zero-ish (p-val = 0.4536)\n",
      ">>> β̂_4 (for np.square(xi)) may be zero-ish (p-val = 0.0621)\n",
      ">>> β̂_6 (for xi:yi) may be zero-ish (p-val = 0.9938)\n",
      "\n",
      "> 1: zi ~ 1 + xi + yi + np.square(xi) + np.square(yi)\n",
      ">> R² = 0.6079 | R_adj² = 0.58377 | F-pval = 1.2664209617505418e-12\n",
      ">>> β̂_3 (for yi) may be zero-ish (p-val = 0.4085)\n",
      ">>> β̂_4 (for np.square(xi)) may be zero-ish (p-val = 0.0601)\n",
      "\n",
      "> 2: zi ~ 1 + xi + np.square(xi) + np.square(yi) + (xi : yi)\n",
      ">> R² = 0.60442 | R_adj² = 0.58007 | F-pval = 1.6789308802786497e-12\n",
      ">>> β̂_1 (for Intercept) may be zero-ish (p-val = 0.0603)\n",
      ">>> β̂_4 (for np.square(xi)) may be zero-ish (p-val = 0.0612)\n",
      ">>> β̂_6 (for xi:yi) may be zero-ish (p-val = 0.7371)\n",
      "\n",
      "> 3: zi ~ 1 + xi + np.square(xi) + np.square(yi)\n",
      ">> R² = 0.60372 | R_adj² = 0.58571 | F-pval = 2.78650393646392e-13\n",
      ">>> β̂_4 (for np.square(xi)) may be zero-ish (p-val = 0.0594)\n",
      "\n",
      "> 4: zi ~ 1 + xi + yi + np.square(yi) + (xi : yi)\n",
      ">> R² = 0.58581 | R_adj² = 0.56032 | F-pval = 7.2585115925820556e-12\n",
      ">>> β̂_1 (for Intercept) may be zero-ish (p-val = 0.217)\n",
      ">>> β̂_2 (for xi) may be zero-ish (p-val = 0.0555)\n",
      ">>> β̂_3 (for yi) may be zero-ish (p-val = 0.4623)\n",
      ">>> β̂_6 (for xi:yi) may be zero-ish (p-val = 0.994)\n",
      "\n",
      "> 5: zi ~ 1 + xi + yi + np.square(yi)\n",
      ">> R² = 0.58581 | R_adj² = 0.56698 | F-pval = 1.1817134774935879e-12\n",
      ">>> β̂_1 (for Intercept) may be zero-ish (p-val = 0.1039)\n",
      ">>> β̂_3 (for yi) may be zero-ish (p-val = 0.4176)\n",
      "\n",
      "> 6: zi ~ 1 + xi + np.square(yi) + (xi : yi)\n",
      ">> R² = 0.58233 | R_adj² = 0.56334 | F-pval = 1.5534566079696091e-12\n",
      ">>> β̂_1 (for Intercept) may be zero-ish (p-val = 0.3075)\n",
      ">>> β̂_2 (for xi) may be zero-ish (p-val = 0.0743)\n",
      ">>> β̂_6 (for xi:yi) may be zero-ish (p-val = 0.742)\n",
      "\n",
      "> 7: zi ~ 1 + xi + np.square(yi)\n",
      ">> R² = 0.58164 | R_adj² = 0.56915 | F-pval = 2.0994264476459094e-13\n",
      ">>> β̂_1 (for Intercept) may be zero-ish (p-val = 0.1453)\n",
      "\n",
      "> 8: zi ~ 1 + yi + np.square(xi) + np.square(yi) + (xi : yi)\n",
      ">> R² = 0.56671 | R_adj² = 0.54005 | F-pval = 3.043708275759631e-11\n",
      ">>> β̂_1 (for Intercept) may be zero-ish (p-val = 0.8323)\n",
      ">>> β̂_3 (for yi) may be zero-ish (p-val = 0.7242)\n",
      ">>> β̂_4 (for np.square(xi)) may be zero-ish (p-val = 0.3833)\n",
      ">>> β̂_6 (for xi:yi) may be zero-ish (p-val = 0.3129)\n",
      "\n",
      "> 9: zi ~ 1 + np.square(xi) + np.square(yi) + (xi : yi)\n",
      ">> R² = 0.56588 | R_adj² = 0.54614 | F-pval = 5.48305920508483e-12\n",
      ">>> β̂_1 (for Intercept) may be zero-ish (p-val = 0.9321)\n",
      ">>> β̂_4 (for np.square(xi)) may be zero-ish (p-val = 0.4184)\n",
      ">>> β̂_6 (for xi:yi) may be zero-ish (p-val = 0.2167)\n",
      "\n",
      "> 10: zi ~ 1 + yi + np.square(yi) + (xi : yi)\n",
      ">> R² = 0.56158 | R_adj² = 0.54165 | F-pval = 7.5629618863774e-12\n",
      ">>> β̂_1 (for Intercept) may be zero-ish (p-val = 0.6857)\n",
      ">>> β̂_3 (for yi) may be zero-ish (p-val = 0.9235)\n",
      "\n",
      "> 11: zi ~ 1 + np.square(yi) + (xi : yi)\n",
      ">> R² = 0.56152 | R_adj² = 0.54843 | F-pval = 1.0126967625050615e-12\n",
      ">>> β̂_1 (for Intercept) may be zero-ish (p-val = 0.4605)\n",
      "\n",
      "> 12: zi ~ 1 + yi + np.square(xi) + np.square(yi)\n",
      ">> R² = 0.55982 | R_adj² = 0.53981 | F-pval = 8.618908507295017e-12\n",
      ">>> β̂_1 (for Intercept) may be zero-ish (p-val = 0.42)\n",
      ">>> β̂_3 (for yi) may be zero-ish (p-val = 0.4317)\n",
      "\n",
      "> 13: zi ~ 1 + np.square(xi) + np.square(yi)\n",
      ">> R² = 0.55564 | R_adj² = 0.54238 | F-pval = 1.581417567041057e-12\n",
      ">>> β̂_1 (for Intercept) may be zero-ish (p-val = 0.723)\n",
      "\n",
      "> 14: zi ~ 1 + xi + yi + np.square(xi) + (xi : yi)\n",
      ">> R² = 0.54101 | R_adj² = 0.51277 | F-pval = 1.8953952347274154e-10\n",
      ">>> β̂_1 (for Intercept) may be zero-ish (p-val = 0.4568)\n",
      ">>> β̂_4 (for np.square(xi)) may be zero-ish (p-val = 0.0816)\n",
      ">>> β̂_6 (for xi:yi) may be zero-ish (p-val = 0.9943)\n",
      "\n",
      "> 15: zi ~ 1 + xi + yi + np.square(xi)\n",
      ">> R² = 0.54101 | R_adj² = 0.52015 | F-pval = 3.37305426722134e-11\n",
      ">>> β̂_1 (for Intercept) may be zero-ish (p-val = 0.3324)\n",
      ">>> β̂_4 (for np.square(xi)) may be zero-ish (p-val = 0.0793)\n",
      "\n",
      "> 16: zi ~ 1 + xi + yi + (xi : yi)\n",
      ">> R² = 0.51892 | R_adj² = 0.49705 | F-pval = 1.5598815584275872e-10\n",
      ">>> β̂_1 (for Intercept) may be zero-ish (p-val = 0.9712)\n",
      ">>> β̂_2 (for xi) may be zero-ish (p-val = 0.0728)\n",
      ">>> β̂_6 (for xi:yi) may be zero-ish (p-val = 0.9943)\n",
      "\n",
      "> 17: zi ~ 1 + xi + yi\n",
      ">> R² = 0.51892 | R_adj² = 0.50456 | F-pval = 2.2607677038300966e-11\n",
      ">>> β̂_1 (for Intercept) may be zero-ish (p-val = 0.9649)\n",
      "\n",
      "> 18: zi ~ 1 + yi + np.square(yi)\n",
      ">> R² = 0.50652 | R_adj² = 0.49179 | F-pval = 5.30199301118768e-11\n",
      ">>> β̂_1 (for Intercept) may be zero-ish (p-val = 0.7007)\n",
      ">>> β̂_3 (for yi) may be zero-ish (p-val = 0.4542)\n",
      "\n",
      "> 19: zi ~ 1 + np.square(yi)\n",
      ">> R² = 0.50235 | R_adj² = 0.49503 | F-pval = 6.6543833162087645e-12\n",
      ">>> β̂_1 (for Intercept) may be zero-ish (p-val = 0.1226)\n",
      "\n",
      "> 20: zi ~ 1 + yi + np.square(xi) + (xi : yi)\n",
      ">> R² = 0.49982 | R_adj² = 0.47709 | F-pval = 5.537474788175856e-10\n",
      ">>> β̂_1 (for Intercept) may be zero-ish (p-val = 0.1471)\n",
      ">>> β̂_4 (for np.square(xi)) may be zero-ish (p-val = 0.4133)\n",
      ">>> β̂_6 (for xi:yi) may be zero-ish (p-val = 0.3436)\n",
      "\n",
      "> 21: zi ~ 1 + yi + (xi : yi)\n",
      ">> R² = 0.49469 | R_adj² = 0.4796 | F-pval = 1.1728905157410883e-10\n",
      ">>> no zero-ish parameters\n",
      "\n",
      "> 22: zi ~ 1 + yi + np.square(xi)\n",
      ">> R² = 0.49293 | R_adj² = 0.47779 | F-pval = 1.3177519847915971e-10\n",
      ">>> β̂_1 (for Intercept) may be zero-ish (p-val = 0.264)\n",
      "\n",
      "> 23: zi ~ 1 + yi\n",
      ">> R² = 0.43963 | R_adj² = 0.43139 | F-pval = 4.0086732486784415e-10\n",
      ">>> no zero-ish parameters\n",
      "\n",
      "> 24: zi ~ 1 + xi + np.square(xi) + (xi : yi)\n",
      ">> R² = 0.41336 | R_adj² = 0.38669 | F-pval = 9.770565582682926e-08\n",
      ">>> β̂_4 (for np.square(xi)) may be zero-ish (p-val = 0.1197)\n",
      "\n",
      "> 25: zi ~ 1 + xi + (xi : yi)\n",
      ">> R² = 0.39127 | R_adj² = 0.3731 | F-pval = 6.002128500158876e-08\n",
      ">>> no zero-ish parameters\n",
      "\n",
      "> 26: zi ~ 1 + np.square(xi) + (xi : yi)\n",
      ">> R² = 0.30218 | R_adj² = 0.28135 | F-pval = 5.825507465946018e-06\n",
      ">>> no zero-ish parameters\n",
      "\n",
      "> 27: zi ~ 1 + xi + np.square(xi)\n",
      ">> R² = 0.10138 | R_adj² = 0.07455 | F-pval = 0.02785213158350703\n",
      ">>> β̂_2 (for xi) may be zero-ish (p-val = 0.0626)\n",
      ">>> β̂_4 (for np.square(xi)) may be zero-ish (p-val = 0.2038)\n",
      "\n",
      "> 28: zi ~ 1 + xi\n",
      ">> R² = 0.07929 | R_adj² = 0.06575 | F-pval = 0.018204141553902157\n",
      ">>> no zero-ish parameters\n",
      "\n",
      "> 29: zi ~ 1 + (xi : yi)\n",
      ">> R² = 0.06643 | R_adj² = 0.05271 | F-pval = 0.03122443226725719\n",
      ">>> β̂_1 (for Intercept) may be zero-ish (p-val = 0.0811)\n",
      "\n"
     ]
    }
   ],
   "source": [
    "# Vypíšeme prvních 5 modelů s nejvyšším koef. determinace\n",
    "show_sorted_by(lambda x: x.rsquared, \"R²\", 30)"
   ]
  },
  {
   "cell_type": "code",
   "execution_count": 400,
   "metadata": {},
   "outputs": [
    {
     "name": "stdout",
     "output_type": "stream",
     "text": [
      "Top 5 (by R_adj²):\n",
      "> 0: zi ~ 1 + xi + np.square(xi) + np.square(yi)\n",
      ">> R² = 0.60372 | R_adj² = 0.58571 | F-pval = 2.78650393646392e-13\n",
      ">>> β̂_4 (for np.square(xi)) may be zero-ish (p-val = 0.0594)\n",
      "\n",
      "> 1: zi ~ 1 + xi + yi + np.square(xi) + np.square(yi)\n",
      ">> R² = 0.6079 | R_adj² = 0.58377 | F-pval = 1.2664209617505418e-12\n",
      ">>> β̂_3 (for yi) may be zero-ish (p-val = 0.4085)\n",
      ">>> β̂_4 (for np.square(xi)) may be zero-ish (p-val = 0.0601)\n",
      "\n",
      "> 2: zi ~ 1 + xi + np.square(xi) + np.square(yi) + (xi : yi)\n",
      ">> R² = 0.60442 | R_adj² = 0.58007 | F-pval = 1.6789308802786497e-12\n",
      ">>> β̂_1 (for Intercept) may be zero-ish (p-val = 0.0603)\n",
      ">>> β̂_4 (for np.square(xi)) may be zero-ish (p-val = 0.0612)\n",
      ">>> β̂_6 (for xi:yi) may be zero-ish (p-val = 0.7371)\n",
      "\n",
      "> 3: zi ~ 1 + xi + yi + np.square(xi) + np.square(yi) + (xi : yi)\n",
      ">> R² = 0.6079 | R_adj² = 0.57727 | F-pval = 6.857122749198144e-12\n",
      ">>> β̂_1 (for Intercept) may be zero-ish (p-val = 0.0566)\n",
      ">>> β̂_3 (for yi) may be zero-ish (p-val = 0.4536)\n",
      ">>> β̂_4 (for np.square(xi)) may be zero-ish (p-val = 0.0621)\n",
      ">>> β̂_6 (for xi:yi) may be zero-ish (p-val = 0.9938)\n",
      "\n",
      "> 4: zi ~ 1 + xi + np.square(yi)\n",
      ">> R² = 0.58164 | R_adj² = 0.56915 | F-pval = 2.0994264476459094e-13\n",
      ">>> β̂_1 (for Intercept) may be zero-ish (p-val = 0.1453)\n",
      "\n"
     ]
    }
   ],
   "source": [
    "# Vypíšeme prvních 5 modelů s nejvyšším adjust. koef. determinace\n",
    "show_sorted_by(lambda x: x.rsquared_adj, \"R_adj²\", 5)"
   ]
  },
  {
   "cell_type": "code",
   "execution_count": 401,
   "metadata": {},
   "outputs": [
    {
     "data": {
      "text/plain": "Intercept       -66.805820\nxi               17.187378\nnp.square(xi)    -0.560746\nnp.square(yi)    -2.766557\ndtype: float64"
     },
     "execution_count": 401,
     "metadata": {},
     "output_type": "execute_result"
    }
   ],
   "source": [
    "# Za nejlepší model prohlásíme β1 + β2X + β4X² + β5Y²\n",
    "best_model = configs[\"zi ~ 1 + xi + np.square(xi) + np.square(yi)\"]\n",
    "best_model.params"
   ]
  },
  {
   "cell_type": "code",
   "execution_count": 402,
   "outputs": [
    {
     "name": "stdout",
     "output_type": "stream",
     "text": [
      "Kolmogorov-Smirnov: p-value = 0.6820865515756823\n",
      "H0 plausible (eps from normal dist.)\n"
     ]
    }
   ],
   "source": [
    "# Testy normality\n",
    "from scipy.stats import kstest, norm, normaltest\n",
    "\n",
    "ks = kstest(np.sort(best_model.resid_pearson), norm.cdf)\n",
    "print(f\"Kolmogorov-Smirnov: p-value = {ks.pvalue}\")\n",
    "print(\"H0 plausible (eps from normal dist.)\" if ks.pvalue > 0.05 else \"H0 REJECTED (eps NOT from normal dist.)\")"
   ],
   "metadata": {
    "collapsed": false
   }
  },
  {
   "cell_type": "code",
   "execution_count": 403,
   "outputs": [
    {
     "name": "stdout",
     "output_type": "stream",
     "text": [
      "Normaltest: p-value = 0.23626813452238035\n",
      "H0 plausible (eps from normal dist.)\n"
     ]
    }
   ],
   "source": [
    "nt = normaltest(np.sort(best_model.resid_pearson))\n",
    "print(f\"Normaltest: p-value = {nt.pvalue}\")\n",
    "print(\"H0 plausible (eps from normal dist.)\" if nt.pvalue > 0.05 else \"H0 REJECTED (eps NOT from normal dist.)\")"
   ],
   "metadata": {
    "collapsed": false
   }
  },
  {
   "cell_type": "code",
   "execution_count": 404,
   "outputs": [
    {
     "data": {
      "text/plain": "<Figure size 640x480 with 1 Axes>",
      "image/png": "[encoded data removed]"
     },
     "metadata": {},
     "output_type": "display_data"
    }
   ],
   "source": [
    "def plot_regression():\n",
    "    X = df[\"xi\"]\n",
    "    Y = df[\"yi\"]\n",
    "    Z = df[\"zi\"]\n",
    "\n",
    "    ax = plt.figure().add_subplot(projection=\"3d\")\n",
    "    ax.view_init(15, 15, vertical_axis='z')\n",
    "\n",
    "    ax.scatter(X, Y, Z, color=\"r\", marker=\"+\")\n",
    "\n",
    "    x_space = np.linspace(np.min(X) - 1, np.max(X) + 1, 100)\n",
    "    y_space = np.linspace(np.min(Y) - 1, np.max(Y) + 1, 100)\n",
    "    x_mesh, y_mesh = np.meshgrid(x_space, y_space)\n",
    "\n",
    "    calc_input = pd.DataFrame({'xi': x_mesh.ravel(), 'yi': y_mesh.ravel()})\n",
    "    z_data = best_model.predict(exog=calc_input)\n",
    "\n",
    "    ax.plot_surface(x_mesh, y_mesh, z_data.values.reshape(x_mesh.shape), alpha=0.8)\n",
    "\n",
    "    ax.set_xlabel(\"X\")\n",
    "    ax.set_ylabel(\"Y\")\n",
    "    ax.set_zlabel(\"Z\")\n",
    "\n",
    "    #%config InlineBackend.print_figure_kwargs={'bbox_inches': None}\n",
    "    plt.draw()\n",
    "    plt.savefig(\"regression.png\", dpi=300)\n",
    "\n",
    "plot_regression()"
   ],
   "metadata": {
    "collapsed": false
   }
  },
  {
   "cell_type": "markdown",
   "source": [
    "### Část b)"
   ],
   "metadata": {
    "collapsed": false
   }
  },
  {
   "cell_type": "code",
   "execution_count": 405,
   "outputs": [
    {
     "data": {
      "text/plain": "<class 'statsmodels.iolib.summary.Summary'>\n\"\"\"\n                            OLS Regression Results                            \n==============================================================================\nDep. Variable:                     zi   R-squared:                       0.604\nModel:                            OLS   Adj. R-squared:                  0.586\nMethod:                 Least Squares   F-statistic:                     33.52\nDate:                Sat, 10 Dec 2022   Prob (F-statistic):           2.79e-13\nTime:                        23:39:56   Log-Likelihood:                -410.51\nNo. Observations:                  70   AIC:                             829.0\nDf Residuals:                      66   BIC:                             838.0\nDf Model:                           3                                         \nCovariance Type:            nonrobust                                         \n=================================================================================\n                    coef    std err          t      P>|t|      [0.025      0.975]\n---------------------------------------------------------------------------------\nIntercept       -66.8058     28.275     -2.363      0.021    -123.259     -10.353\nxi               17.1874      6.074      2.830      0.006       5.061      29.314\nnp.square(xi)    -0.5607      0.292     -1.918      0.059      -1.144       0.023\nnp.square(yi)    -2.7666      0.302     -9.147      0.000      -3.370      -2.163\n==============================================================================\nOmnibus:                        2.886   Durbin-Watson:                   2.365\nProb(Omnibus):                  0.236   Jarque-Bera (JB):                2.356\nSkew:                          -0.179   Prob(JB):                        0.308\nKurtosis:                       3.825   Cond. No.                         534.\n==============================================================================\n\nNotes:\n[1] Standard Errors assume that the covariance matrix of the errors is correctly specified.\n\"\"\"",
      "text/html": "<table class=\"simpletable\">\n<caption>OLS Regression Results</caption>\n<tr>\n  <th>Dep. Variable:</th>           <td>zi</td>        <th>  R-squared:         </th> <td>   0.604</td>\n</tr>\n<tr>\n  <th>Model:</th>                   <td>OLS</td>       <th>  Adj. R-squared:    </th> <td>   0.586</td>\n</tr>\n<tr>\n  <th>Method:</th>             <td>Least Squares</td>  <th>  F-statistic:       </th> <td>   33.52</td>\n</tr>\n<tr>\n  <th>Date:</th>             <td>Sat, 10 Dec 2022</td> <th>  Prob (F-statistic):</th> <td>2.79e-13</td>\n</tr>\n<tr>\n  <th>Time:</th>                 <td>23:39:56</td>     <th>  Log-Likelihood:    </th> <td> -410.51</td>\n</tr>\n<tr>\n  <th>No. Observations:</th>      <td>    70</td>      <th>  AIC:               </th> <td>   829.0</td>\n</tr>\n<tr>\n  <th>Df Residuals:</th>          <td>    66</td>      <th>  BIC:               </th> <td>   838.0</td>\n</tr>\n<tr>\n  <th>Df Model:</th>              <td>     3</td>      <th>                     </th>     <td> </td>   \n</tr>\n<tr>\n  <th>Covariance Type:</th>      <td>nonrobust</td>    <th>                     </th>     <td> </td>   \n</tr>\n</table>\n<table class=\"simpletable\">\n<tr>\n        <td></td>           <th>coef</th>     <th>std err</th>      <th>t</th>      <th>P>|t|</th>  <th>[0.025</th>    <th>0.975]</th>  \n</tr>\n<tr>\n  <th>Intercept</th>     <td>  -66.8058</td> <td>   28.275</td> <td>   -2.363</td> <td> 0.021</td> <td> -123.259</td> <td>  -10.353</td>\n</tr>\n<tr>\n  <th>xi</th>            <td>   17.1874</td> <td>    6.074</td> <td>    2.830</td> <td> 0.006</td> <td>    5.061</td> <td>   29.314</td>\n</tr>\n<tr>\n  <th>np.square(xi)</th> <td>   -0.5607</td> <td>    0.292</td> <td>   -1.918</td> <td> 0.059</td> <td>   -1.144</td> <td>    0.023</td>\n</tr>\n<tr>\n  <th>np.square(yi)</th> <td>   -2.7666</td> <td>    0.302</td> <td>   -9.147</td> <td> 0.000</td> <td>   -3.370</td> <td>   -2.163</td>\n</tr>\n</table>\n<table class=\"simpletable\">\n<tr>\n  <th>Omnibus:</th>       <td> 2.886</td> <th>  Durbin-Watson:     </th> <td>   2.365</td>\n</tr>\n<tr>\n  <th>Prob(Omnibus):</th> <td> 0.236</td> <th>  Jarque-Bera (JB):  </th> <td>   2.356</td>\n</tr>\n<tr>\n  <th>Skew:</th>          <td>-0.179</td> <th>  Prob(JB):          </th> <td>   0.308</td>\n</tr>\n<tr>\n  <th>Kurtosis:</th>      <td> 3.825</td> <th>  Cond. No.          </th> <td>    534.</td>\n</tr>\n</table><br/><br/>Notes:<br/>[1] Standard Errors assume that the covariance matrix of the errors is correctly specified."
     },
     "execution_count": 405,
     "metadata": {},
     "output_type": "execute_result"
    }
   ],
   "source": [
    "# Informace o zvoleném modelu (včetně bodových a intervalových odhadů parametrů)\n",
    "best_model.summary()"
   ],
   "metadata": {
    "collapsed": false
   }
  },
  {
   "cell_type": "markdown",
   "source": [
    "### Část c)"
   ],
   "metadata": {
    "collapsed": false
   }
  },
  {
   "cell_type": "code",
   "execution_count": 406,
   "outputs": [
    {
     "name": "stdout",
     "output_type": "stream",
     "text": [
      "Variance point estimate:\n",
      "7705.694924019383\n",
      "7705.6949240193835\n",
      "7705.6949240193835\n"
     ]
    }
   ],
   "source": [
    "def calc_variance_est():\n",
    "    \"\"\"Vypočítá bodový odhad rozptylu náh. veličiny Z podle regresního modelu.\"\"\"\n",
    "    s = 0\n",
    "    X = df[\"xi\"]\n",
    "    for i in range(X.size):\n",
    "        zi = df[\"zi\"][i]\n",
    "        a = best_model.params[0]\n",
    "        b = best_model.params[1] * X[i]\n",
    "        c = best_model.params[2] * X[i] ** 2\n",
    "        d = best_model.params[3] * df[\"yi\"][i] ** 2\n",
    "        s += (zi - a - b - c - d) ** 2\n",
    "\n",
    "    return s / (X.size - best_model.params.size)\n",
    "\n",
    "\n",
    "# Hodnoty atributů 'scale' a 'mse_resid' evidentně také\n",
    "# odpovídají bodovému odhadu rozptylu.\n",
    "print(\"Variance point estimate:\")\n",
    "print(calc_variance_est())\n",
    "print(best_model.scale)\n",
    "print(best_model.mse_resid)"
   ],
   "metadata": {
    "collapsed": false
   }
  },
  {
   "cell_type": "markdown",
   "source": [
    "### Část d), e)"
   ],
   "metadata": {
    "collapsed": false
   }
  },
  {
   "cell_type": "code",
   "execution_count": 407,
   "metadata": {},
   "outputs": [],
   "source": [
    "def do_f_test(test, test_desc, alpha = 0.05):\n",
    "    test = best_model.f_test(test)\n",
    "    print(test_desc)\n",
    "    print(f\"p-value = {test.pvalue}\")\n",
    "    print(\"H0 REJECTED\" if test.pvalue <= alpha else \"H0 plausible\")\n",
    "\n",
    "def do_t_test(test, test_desc, alpha = 0.05):\n",
    "    test = best_model.t_test(test)\n",
    "    print(test_desc)\n",
    "    print(f\"p-value = {test.pvalue}\")\n",
    "    print(\"H0 REJECTED\" if test.pvalue <= alpha else \"H0 plausible\")"
   ]
  },
  {
   "cell_type": "code",
   "execution_count": 408,
   "outputs": [
    {
     "name": "stdout",
     "output_type": "stream",
     "text": [
      "H0: β4 = β5 = 0\n",
      "HA: β4 ≠ 0 or β5 ≠ 0\n",
      "p-value = 8.275717882978956e-13\n",
      "H0 REJECTED\n"
     ]
    }
   ],
   "source": [
    "do_f_test(\"(np.square(xi) = 0), (np.square(yi))=0\", \"H0: β4 = β5 = 0\\nHA: β4 ≠ 0 or β5 ≠ 0\")"
   ],
   "metadata": {
    "collapsed": false
   }
  },
  {
   "cell_type": "code",
   "execution_count": 409,
   "outputs": [
    {
     "name": "stdout",
     "output_type": "stream",
     "text": [
      "H0: β4 = β5\n",
      "HA: β4 ≠ β5\n",
      "p-value = 1.7809403222552059e-06\n",
      "H0 REJECTED\n"
     ]
    }
   ],
   "source": [
    "do_f_test(\"np.square(xi) = np.square(yi)\", \"H0: β4 = β5\\nHA: β4 ≠ β5\")"
   ],
   "metadata": {
    "collapsed": false
   }
  },
  {
   "cell_type": "code",
   "execution_count": 410,
   "outputs": [
    {
     "name": "stdout",
     "output_type": "stream",
     "text": [
      "H0: β4 = β5\n",
      "HA: β4 ≠ β5\n",
      "p-value = 1.7809403222552065e-06\n",
      "H0 REJECTED\n"
     ]
    }
   ],
   "source": [
    "do_t_test(\"np.square(xi) = np.square(yi)\", \"H0: β4 = β5\\nHA: β4 ≠ β5\")"
   ],
   "metadata": {
    "collapsed": false
   }
  }
 ],
 "metadata": {
  "kernelspec": {
   "display_name": "Python 3 (ipykernel)",
   "language": "python",
   "name": "python3"
  },
  "language_info": {
   "codemirror_mode": {
    "name": "ipython",
    "version": 3
   },
   "file_extension": ".py",
   "mimetype": "text/x-python",
   "name": "python",
   "nbconvert_exporter": "python",
   "pygments_lexer": "ipython3",
   "version": "3.10.6"
  }
 },
 "nbformat": 4,
 "nbformat_minor": 1
}
